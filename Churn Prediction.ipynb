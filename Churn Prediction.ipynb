{
 "cells": [
  {
   "cell_type": "code",
   "execution_count": 1,
   "id": "d7a1f993-5f9b-4442-bed8-665e4866390f",
   "metadata": {},
   "outputs": [],
   "source": [
    "# 1: Imports\n",
    "import pandas as pd\n",
    "import numpy as np\n",
    "import matplotlib.pyplot as plt\n",
    "import seaborn as sns\n",
    "import joblib\n",
    "\n",
    "from sklearn.model_selection import train_test_split\n",
    "from sklearn.preprocessing import StandardScaler\n",
    "from sklearn.metrics import confusion_matrix, classification_report, accuracy_score\n",
    "\n",
    "from sklearn.ensemble import RandomForestClassifier\n",
    "from sklearn.tree import DecisionTreeClassifier\n",
    "from sklearn.svm import SVC\n",
    "\n",
    "from tensorflow.keras.models import Sequential\n",
    "from tensorflow.keras.layers import Dense\n",
    "from tensorflow.keras.optimizers import Adam\n"
   ]
  },
  {
   "cell_type": "code",
   "execution_count": 3,
   "id": "69c57064-5f44-4a48-be31-f6bf0f029cec",
   "metadata": {},
   "outputs": [],
   "source": [
    "# 2: Load training data\n",
    "def load_data(path):\n",
    "    df = pd.read_csv(path)\n",
    "    return df\n",
    "\n",
    "train_df = load_data(\"C:\\\\Users\\\\KavishkeSamarasena\\\\Desktop\\\\My Files\\\\ICBT\\\\Assignments\\\\CI\\\\train.csv\")\n"
   ]
  },
  {
   "cell_type": "code",
   "execution_count": 4,
   "id": "08ff09f4-58f0-4199-a331-b54e30b6bd79",
   "metadata": {},
   "outputs": [
    {
     "name": "stdout",
     "output_type": "stream",
     "text": [
      "Shape: (15000, 14)\n",
      "<class 'pandas.core.frame.DataFrame'>\n",
      "RangeIndex: 15000 entries, 0 to 14999\n",
      "Data columns (total 14 columns):\n",
      " #   Column           Non-Null Count  Dtype  \n",
      "---  ------           --------------  -----  \n",
      " 0   id               15000 non-null  int64  \n",
      " 1   CustomerId       15000 non-null  float64\n",
      " 2   Surname          15000 non-null  object \n",
      " 3   CreditScore      15000 non-null  float64\n",
      " 4   Geography        15000 non-null  object \n",
      " 5   Gender           15000 non-null  object \n",
      " 6   Age              15000 non-null  float64\n",
      " 7   Tenure           15000 non-null  float64\n",
      " 8   Balance          15000 non-null  float64\n",
      " 9   NumOfProducts    15000 non-null  float64\n",
      " 10  HasCrCard        15000 non-null  float64\n",
      " 11  IsActiveMember   15000 non-null  float64\n",
      " 12  EstimatedSalary  15000 non-null  float64\n",
      " 13  Exited           15000 non-null  float64\n",
      "dtypes: float64(10), int64(1), object(3)\n",
      "memory usage: 1.6+ MB\n",
      "None\n",
      "                 id    CustomerId   CreditScore           Age        Tenure  \\\n",
      "count  15000.000000  1.500000e+04  15000.000000  15000.000000  15000.000000   \n",
      "mean    7499.500000  1.579653e+07    658.851467     37.888000      5.033333   \n",
      "std     4330.271354  1.270937e+07     72.587026      8.257409      2.808359   \n",
      "min        0.000000  1.556578e+07    431.000000     18.000000      0.000000   \n",
      "25%     3749.750000  1.563449e+07    602.000000     32.000000      3.000000   \n",
      "50%     7499.500000  1.569053e+07    662.000000     37.000000      5.000000   \n",
      "75%    11249.250000  1.575758e+07    709.000000     42.000000      7.000000   \n",
      "max    14999.000000  1.572242e+09    850.000000     74.000000     10.000000   \n",
      "\n",
      "             Balance  NumOfProducts     HasCrCard  IsActiveMember  \\\n",
      "count   15000.000000   15000.000000  15000.000000    15000.000000   \n",
      "mean    43124.060479       1.590733      0.783200        0.500200   \n",
      "std     59777.868496       0.535587      0.412079        0.500017   \n",
      "min         0.000000       1.000000      0.000000        0.000000   \n",
      "25%         0.000000       1.000000      1.000000        0.000000   \n",
      "50%         0.000000       2.000000      1.000000        1.000000   \n",
      "75%    109650.982500       2.000000      1.000000        1.000000   \n",
      "max    187530.660000       4.000000      1.000000        1.000000   \n",
      "\n",
      "       EstimatedSalary        Exited  \n",
      "count     1.500000e+04  15000.000000  \n",
      "mean      1.181348e+05      0.203867  \n",
      "std       4.680311e+04      0.402884  \n",
      "min       1.158000e+01      0.000000  \n",
      "25%       8.362960e+04      0.000000  \n",
      "50%       1.235878e+05      0.000000  \n",
      "75%       1.575585e+05      0.000000  \n",
      "max       1.557802e+06      1.000000  \n",
      "Missing values:\n",
      " id                 0\n",
      "CustomerId         0\n",
      "Surname            0\n",
      "CreditScore        0\n",
      "Geography          0\n",
      "Gender             0\n",
      "Age                0\n",
      "Tenure             0\n",
      "Balance            0\n",
      "NumOfProducts      0\n",
      "HasCrCard          0\n",
      "IsActiveMember     0\n",
      "EstimatedSalary    0\n",
      "Exited             0\n",
      "dtype: int64\n"
     ]
    },
    {
     "data": {
      "image/png": "[encoded data removed]",
      "text/plain": [
       "<Figure size 640x480 with 1 Axes>"
      ]
     },
     "metadata": {},
     "output_type": "display_data"
    }
   ],
   "source": [
    "# 3: Basic exploration\n",
    "def explore_data(df):\n",
    "    print(\"Shape:\", df.shape)\n",
    "    print(df.info())\n",
    "    print(df.describe())\n",
    "    print(\"Missing values:\\n\", df.isnull().sum())\n",
    "    sns.countplot(x='Exited', data=df)\n",
    "    plt.title('Churn Distribution')\n",
    "    plt.show()\n",
    "\n",
    "explore_data(train_df)"
   ]
  },
  {
   "cell_type": "code",
   "execution_count": 5,
   "id": "a88b72a2-b6c7-4c30-9fbd-eec6d0107c95",
   "metadata": {},
   "outputs": [],
   "source": [
    "# 4: Preprocessing\n",
    "def preprocess_data(df, is_train=True):\n",
    "    df = df.copy()\n",
    "    if is_train:\n",
    "        df.drop(['id', 'CustomerId', 'Surname'], axis=1, inplace=True)\n",
    "    else:\n",
    "        df.drop(['id', 'CustomerId', 'Surname'], axis=1, inplace=True, errors='ignore')\n",
    "\n",
    "    df = pd.get_dummies(df, columns=['Geography', 'Gender'], drop_first=True)\n",
    "\n",
    "    return df\n",
    "\n",
    "df_model = preprocess_data(train_df)\n",
    "\n",
    "X = df_model.drop('Exited', axis=1)\n",
    "y = df_model['Exited']"
   ]
  },
  {
   "cell_type": "code",
   "execution_count": 6,
   "id": "e9c3c00a-92a6-424b-88c6-cf33688171a6",
   "metadata": {},
   "outputs": [],
   "source": [
    "# 5: Split and scale\n",
    "def split_and_scale(X, y):\n",
    "    X_train, X_val, y_train, y_val = train_test_split(X, y, test_size=0.2, stratify=y, random_state=42)\n",
    "    scaler = StandardScaler()\n",
    "    X_train_scaled = scaler.fit_transform(X_train)\n",
    "    X_val_scaled = scaler.transform(X_val)\n",
    "    return X_train, X_val, y_train, y_val, X_train_scaled, X_val_scaled, scaler\n",
    "\n",
    "X_train, X_val, y_train, y_val, X_train_scaled, X_val_scaled, scaler = split_and_scale(X, y)"
   ]
  },
  {
   "cell_type": "code",
   "execution_count": 7,
   "id": "5b94c939-d39a-451a-bb9e-3515043c88ff",
   "metadata": {},
   "outputs": [],
   "source": [
    "# 6: Evaluation function\n",
    "def evaluate_model(model, X_val, y_val, name):\n",
    "    y_pred = model.predict(X_val)\n",
    "    print(f\"\\n📊 {name} - Confusion Matrix:\\n\", confusion_matrix(y_val, y_pred))\n",
    "    print(f\"📊 {name} - Classification Report:\\n\", classification_report(y_val, y_pred))\n",
    "    accuracy = accuracy_score(y_val, y_pred)\n",
    "    print(f\"📈 {name} - Accuracy: {accuracy:.4f}\")\n",
    "    return accuracy"
   ]
  },
  {
   "cell_type": "code",
   "execution_count": 8,
   "id": "9180fb52-41eb-4adc-b632-5e97deda8364",
   "metadata": {},
   "outputs": [
    {
     "name": "stdout",
     "output_type": "stream",
     "text": [
      "\n",
      "📊 Decision Tree - Confusion Matrix:\n",
      " [[2157  231]\n",
      " [ 217  395]]\n",
      "📊 Decision Tree - Classification Report:\n",
      "               precision    recall  f1-score   support\n",
      "\n",
      "         0.0       0.91      0.90      0.91      2388\n",
      "         1.0       0.63      0.65      0.64       612\n",
      "\n",
      "    accuracy                           0.85      3000\n",
      "   macro avg       0.77      0.77      0.77      3000\n",
      "weighted avg       0.85      0.85      0.85      3000\n",
      "\n",
      "📈 Decision Tree - Accuracy: 0.8507\n",
      "\n",
      "📊 Random Forest - Confusion Matrix:\n",
      " [[2284  104]\n",
      " [ 225  387]]\n",
      "📊 Random Forest - Classification Report:\n",
      "               precision    recall  f1-score   support\n",
      "\n",
      "         0.0       0.91      0.96      0.93      2388\n",
      "         1.0       0.79      0.63      0.70       612\n",
      "\n",
      "    accuracy                           0.89      3000\n",
      "   macro avg       0.85      0.79      0.82      3000\n",
      "weighted avg       0.89      0.89      0.89      3000\n",
      "\n",
      "📈 Random Forest - Accuracy: 0.8903\n",
      "\n",
      "📊 SVM - Confusion Matrix:\n",
      " [[2296   92]\n",
      " [ 232  380]]\n",
      "📊 SVM - Classification Report:\n",
      "               precision    recall  f1-score   support\n",
      "\n",
      "         0.0       0.91      0.96      0.93      2388\n",
      "         1.0       0.81      0.62      0.70       612\n",
      "\n",
      "    accuracy                           0.89      3000\n",
      "   macro avg       0.86      0.79      0.82      3000\n",
      "weighted avg       0.89      0.89      0.89      3000\n",
      "\n",
      "📈 SVM - Accuracy: 0.8920\n"
     ]
    },
    {
     "name": "stderr",
     "output_type": "stream",
     "text": [
      "D:\\ICBT\\Anaconda\\envs\\KaggleCompetition\\Lib\\site-packages\\keras\\src\\layers\\core\\dense.py:93: UserWarning: Do not pass an `input_shape`/`input_dim` argument to a layer. When using Sequential models, prefer using an `Input(shape)` object as the first layer in the model instead.\n",
      "  super().__init__(activity_regularizer=activity_regularizer, **kwargs)\n"
     ]
    },
    {
     "name": "stdout",
     "output_type": "stream",
     "text": [
      "\u001b[1m94/94\u001b[0m \u001b[32m━━━━━━━━━━━━━━━━━━━━\u001b[0m\u001b[37m\u001b[0m \u001b[1m0s\u001b[0m 3ms/step\n",
      "\n",
      "📊 ANN - Confusion Matrix:\n",
      " [[2277  111]\n",
      " [ 216  396]]\n",
      "📊 ANN - Classification Report:\n",
      "               precision    recall  f1-score   support\n",
      "\n",
      "         0.0       0.91      0.95      0.93      2388\n",
      "         1.0       0.78      0.65      0.71       612\n",
      "\n",
      "    accuracy                           0.89      3000\n",
      "   macro avg       0.85      0.80      0.82      3000\n",
      "weighted avg       0.89      0.89      0.89      3000\n",
      "\n",
      "📈 ANN - Accuracy: 0.8910\n"
     ]
    }
   ],
   "source": [
    "# 7: Train models\n",
    "# Decision Tree\n",
    "dt_model = DecisionTreeClassifier(random_state=42)\n",
    "dt_model.fit(X_train_scaled, y_train)\n",
    "acc_dt = evaluate_model(dt_model, X_val_scaled, y_val, \"Decision Tree\")\n",
    "\n",
    "# Random Forest\n",
    "rf_model = RandomForestClassifier(n_estimators=100, random_state=42)\n",
    "rf_model.fit(X_train_scaled, y_train)\n",
    "acc_rf = evaluate_model(rf_model, X_val_scaled, y_val, \"Random Forest\")\n",
    "\n",
    "# SVM\n",
    "svm_model = SVC(probability=True, kernel='rbf', C=1.0, gamma='scale', random_state=42)\n",
    "svm_model.fit(X_train_scaled, y_train)\n",
    "acc_svm = evaluate_model(svm_model, X_val_scaled, y_val, \"SVM\")\n",
    "\n",
    "# ANN\n",
    "ann_model = Sequential([\n",
    "    Dense(16, input_dim=X_train_scaled.shape[1], activation='relu'),\n",
    "    Dense(8, activation='relu'),\n",
    "    Dense(1, activation='sigmoid')\n",
    "])\n",
    "ann_model.compile(loss='binary_crossentropy', optimizer=Adam(learning_rate=0.001), metrics=['accuracy'])\n",
    "ann_model.fit(X_train_scaled, y_train, epochs=50, batch_size=32, validation_data=(X_val_scaled, y_val), verbose=0)\n",
    "\n",
    "y_pred_ann = (ann_model.predict(X_val_scaled) > 0.5).astype(int)\n",
    "acc_ann = accuracy_score(y_val, y_pred_ann)\n",
    "print(f\"\\n📊 ANN - Confusion Matrix:\\n\", confusion_matrix(y_val, y_pred_ann))\n",
    "print(\"📊 ANN - Classification Report:\\n\", classification_report(y_val, y_pred_ann))\n",
    "print(f\"📈 ANN - Accuracy: {acc_ann:.4f}\")"
   ]
  },
  {
   "cell_type": "code",
   "execution_count": 9,
   "id": "8c29edb2-a091-4f35-b411-5f33e605b312",
   "metadata": {},
   "outputs": [
    {
     "name": "stdout",
     "output_type": "stream",
     "text": [
      "\n",
      "🏆 Best Model: SVM with Accuracy: 0.8920\n",
      "✅ Saved best model and scaler.\n"
     ]
    }
   ],
   "source": [
    "# 8: Save the best model\n",
    "model_scores = {\n",
    "    'Decision Tree': acc_dt,\n",
    "    'Random Forest': acc_rf,\n",
    "    'SVM': acc_svm,\n",
    "    'ANN': acc_ann\n",
    "}\n",
    "best_model_name = max(model_scores, key=model_scores.get)\n",
    "print(f\"\\n🏆 Best Model: {best_model_name} with Accuracy: {model_scores[best_model_name]:.4f}\")\n",
    "\n",
    "if best_model_name == \"Random Forest\":\n",
    "    joblib.dump(rf_model, 'churn_model.pkl')\n",
    "elif best_model_name == \"Decision Tree\":\n",
    "    joblib.dump(dt_model, 'churn_model.pkl')\n",
    "elif best_model_name == \"SVM\":\n",
    "    joblib.dump(svm_model, 'churn_model.pkl')\n",
    "else:\n",
    "    ann_model.save('churn_model.h5')\n",
    "\n",
    "joblib.dump(scaler, 'scaler.pkl')\n",
    "print(\"✅ Saved best model and scaler.\")\n"
   ]
  },
  {
   "cell_type": "code",
   "execution_count": 10,
   "id": "da86a8b8-40aa-4d3e-b98a-238647ea94f1",
   "metadata": {},
   "outputs": [
    {
     "name": "stdout",
     "output_type": "stream",
     "text": [
      "📤 Submission file saved.\n"
     ]
    }
   ],
   "source": [
    "# 9: Predict on test data\n",
    "def prepare_test_data(test_path, X_train_columns, scaler):\n",
    "    test_df = pd.read_csv(test_path)\n",
    "    customer_ids = test_df['CustomerId']\n",
    "    test_df = preprocess_data(test_df, is_train=False)\n",
    "\n",
    "    for col in X_train_columns:\n",
    "        if col not in test_df.columns:\n",
    "            test_df[col] = 0\n",
    "    test_df = test_df[X_train_columns]\n",
    "    test_scaled = scaler.transform(test_df)\n",
    "    return customer_ids, test_scaled\n",
    "\n",
    "customer_ids, test_scaled = prepare_test_data(\n",
    "    \"C:\\\\Users\\\\KavishkeSamarasena\\\\Desktop\\\\My Files\\\\ICBT\\\\Assignments\\\\CI\\\\test.csv\", \n",
    "    X.columns, scaler\n",
    ")\n",
    "\n",
    "# Predict\n",
    "if best_model_name == \"ANN\":\n",
    "    test_preds = (ann_model.predict(test_scaled) > 0.5).astype(int)\n",
    "else:\n",
    "    test_preds = eval(f\"{best_model_name.lower().replace(' ', '_')}_model\").predict(test_scaled)\n",
    "\n",
    "# Save submission\n",
    "submission = pd.DataFrame({\n",
    "    'CustomerId': customer_ids,\n",
    "    'Exited': test_preds.flatten()\n",
    "})\n",
    "submission.to_csv(\"submission.csv\", index=False)\n",
    "print(\"📤 Submission file saved.\")\n"
   ]
  },
  {
   "cell_type": "code",
   "execution_count": 11,
   "id": "78c357a2-c4bf-4d48-8be6-5191f9269b58",
   "metadata": {},
   "outputs": [
    {
     "name": "stdout",
     "output_type": "stream",
     "text": [
      "11\n"
     ]
    },
    {
     "ename": "NameError",
     "evalue": "name 'input_data' is not defined",
     "output_type": "error",
     "traceback": [
      "\u001b[31m---------------------------------------------------------------------------\u001b[39m",
      "\u001b[31mNameError\u001b[39m                                 Traceback (most recent call last)",
      "\u001b[36mCell\u001b[39m\u001b[36m \u001b[39m\u001b[32mIn[11]\u001b[39m\u001b[32m, line 2\u001b[39m\n\u001b[32m      1\u001b[39m \u001b[38;5;28mprint\u001b[39m(X_train.shape[\u001b[32m1\u001b[39m])         \u001b[38;5;66;03m# in notebook\u001b[39;00m\n\u001b[32m----> \u001b[39m\u001b[32m2\u001b[39m \u001b[38;5;28mprint\u001b[39m(input_data.shape[\u001b[32m1\u001b[39m])\n",
      "\u001b[31mNameError\u001b[39m: name 'input_data' is not defined"
     ]
    }
   ],
   "source": [
    "print(X_train.shape[1])         # in notebook\n"
   ]
  },
  {
   "cell_type": "code",
   "execution_count": null,
   "id": "e6845255-aeb6-4c2e-b8db-ba19cb3722af",
   "metadata": {},
   "outputs": [],
   "source": []
  }
 ],
 "metadata": {
  "kernelspec": {
   "display_name": "Python 3 (ipykernel)",
   "language": "python",
   "name": "python3"
  },
  "language_info": {
   "codemirror_mode": {
    "name": "ipython",
    "version": 3
   },
   "file_extension": ".py",
   "mimetype": "text/x-python",
   "name": "python",
   "nbconvert_exporter": "python",
   "pygments_lexer": "ipython3",
   "version": "3.12.11"
  }
 },
 "nbformat": 4,
 "nbformat_minor": 5
}
